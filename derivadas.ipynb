{
 "cells": [
  {
   "cell_type": "code",
   "execution_count": 10,
   "metadata": {},
   "outputs": [
    {
     "name": "stdout",
     "output_type": "stream",
     "text": [
      "Derivada parcial con respecto a % Asistencia: 0.0022\n",
      "Derivada parcial con respecto a Nivel de Motivación: 0.2393\n"
     ]
    }
   ],
   "source": [
    "import pandas as pd\n",
    "import numpy as np\n",
    "from sklearn.linear_model import LinearRegression\n",
    "\n",
    "df = pd.read_csv('Datos_de_Estudiantes.csv')\n",
    "\n",
    "# Variables independientes y dependientes\n",
    "X = df[['Promedio_de_%_Asistencia_del_Semestre_Anterior', 'Nivel_de_Motivacion']]\n",
    "y = df['Promedio_Notas_Semestre_Anterior']\n",
    "\n",
    "# Ajustar el modelo\n",
    "LM = LinearRegression()\n",
    "LM.fit(X, y)\n",
    "\n",
    "# Predicciones\n",
    "y_pred = LM.predict(X)\n",
    "\n",
    "# Derivadas parciales (coeficientes del modelo)\n",
    "derivadas_parciales = LM.coef_\n",
    "\n",
    "# Mostrar coeficientes\n",
    "print(f'Derivada parcial con respecto a % Asistencia: {derivadas_parciales[0]:.4f}')\n",
    "print(f'Derivada parcial con respecto a Nivel de Motivación: {derivadas_parciales[1]:.4f}')\n"
   ]
  }
 ],
 "metadata": {
  "kernelspec": {
   "display_name": "Python 3",
   "language": "python",
   "name": "python3"
  },
  "language_info": {
   "codemirror_mode": {
    "name": "ipython",
    "version": 3
   },
   "file_extension": ".py",
   "mimetype": "text/x-python",
   "name": "python",
   "nbconvert_exporter": "python",
   "pygments_lexer": "ipython3",
   "version": "3.12.2"
  }
 },
 "nbformat": 4,
 "nbformat_minor": 2
}
